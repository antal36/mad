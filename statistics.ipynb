{
 "cells": [
  {
   "cell_type": "code",
   "execution_count": 2,
   "metadata": {},
   "outputs": [],
   "source": [
    "import json\n",
    "import pandas as pd \n",
    "import numpy as np\n",
    "from typing import List, Tuple, Any"
   ]
  },
  {
   "cell_type": "code",
   "execution_count": 4,
   "metadata": {},
   "outputs": [],
   "source": [
    "with open(\"./results.json\") as file:\n",
    "    data = json.load(file)\n"
   ]
  },
  {
   "cell_type": "code",
   "execution_count": 9,
   "metadata": {},
   "outputs": [
    {
     "name": "stdout",
     "output_type": "stream",
     "text": [
      "[('Cardiovascular_Disease_Dataset', (0.9883551672947106, 'Age, Exercise_angina, Fasting_blood_sugar, Max_heart_rate, Oldpeak, Resting_blood_pressure, Resting_electrocardiomgram, Slope'), 'LogisticRegression'), ('Diabetes_Dataset_37', (0.7423687132403158, 'Diabetes_pedigree, Plasma_glucose, Pregnancy, Skin_thickness'), 'LogisticRegression'), ('Diabetes_Classification', (0.9076871381306866, 'Cholesterol, Glucose, Height, Hips, Waist_hip_ratio'), 'LogisticRegression'), ('Medical_Dataset', (0.8481626383497245, 'Age, Creatine_Kinase, Diastolic_blood_pressure, Heart_rate, Systolic_blood_pressure, Troponin'), 'LogisticRegression'), ('Cardiovascular_Disease_Dataset', (1.0, 'Age, Chest_pain, Fasting_blood_sugar, Num_of_major_vessels, Resting_blood_pressure, Resting_electrocardiomgram, Serum_cholestrol, Slope'), 'RandomForestClassifier'), ('Diabetes_Dataset_37', (0.7478534678334143, 'Age, BMI, Diabetes_pedigree, Diastolic_pressure, Plasma_glucose, Pregnancy'), 'RandomForestClassifier'), ('Diabetes_Classification', (0.8876105650358497, 'BMI, Cholesterol, Glucose, Height, Hips, Systolic_blood_press, Waist_hip_ratio'), 'RandomForestClassifier'), ('Medical_Dataset', (0.9881256223781888, 'Creatine_Kinase, Diastolic_blood_pressure, Gender, Heart_rate, Systolic_blood_pressure, Troponin'), 'RandomForestClassifier'), ('Cardiovascular_Disease_Dataset', (0.9884207922334479, 'Exercise_angina, Gender, Max_heart_rate, Resting_electrocardiomgram, Serum_cholestrol, Slope'), 'GaussianNB'), ('Diabetes_Dataset_37', (0.7877360343351923, 'BMI, Diabetes_pedigree, Plasma_glucose, Pregnancy, Serum_insuling'), 'GaussianNB'), ('Diabetes_Classification', (0.8977527954501638, 'BMI, Chol_hdl_ratio, Glucose, Waist_hip_ratio'), 'GaussianNB'), ('Medical_Dataset', (0.8377430976765851, 'Age, Creatine_Kinase, Systolic_blood_pressure, Troponin'), 'GaussianNB'), ('Cardiovascular_Disease_Dataset', (0.9860832368838442, 'Fasting_blood_sugar, Gender, Max_heart_rate, Num_of_major_vessels, Oldpeak, Resting_electrocardiomgram, Serum_cholestrol, Slope'), 'DecisionTreeClassifier'), ('Diabetes_Dataset_37', (0.7482174112758894, 'Age, BMI, Diabetes_pedigree, Plasma_glucose, Serum_insuling, Skin_thickness'), 'DecisionTreeClassifier'), ('Diabetes_Classification', (0.8609252096206556, 'Chol_hdl_ratio, Cholesterol, Gender, Glucose, Hips, Systolic_blood_press'), 'DecisionTreeClassifier'), ('Medical_Dataset', (0.9831643919202889, 'Creatine_Kinase, Diastolic_blood_pressure, Heart_rate, Systolic_blood_pressure, Troponin'), 'DecisionTreeClassifier'), ('Cardiovascular_Disease_Dataset', (0.9772609084044346, 'Resting_electrocardiomgram, Slope'), 'KNeighborsClassifier'), ('Diabetes_Dataset_37', (0.7081411517775155, 'Age, BMI, Plasma_glucose, Pregnancy'), 'KNeighborsClassifier'), ('Diabetes_Classification', (0.8690905322013007, 'Glucose, HDL-cholesterol, Systolic_blood_press'), 'KNeighborsClassifier'), ('Medical_Dataset', (0.894816509152174, 'Creatine_Kinase, Troponin'), 'KNeighborsClassifier')]\n",
      "####\n",
      "[('LogisticRegression', (0.8481626383497245, 'Age, Creatine_Kinase, Diastolic_blood_pressure, Heart_rate, Systolic_blood_pressure, Troponin')), ('RandomForestClassifier', (0.9881256223781888, 'Creatine_Kinase, Diastolic_blood_pressure, Gender, Heart_rate, Systolic_blood_pressure, Troponin')), ('GaussianNB', (0.8377430976765851, 'Age, Creatine_Kinase, Systolic_blood_pressure, Troponin')), ('DecisionTreeClassifier', (0.9831643919202889, 'Creatine_Kinase, Diastolic_blood_pressure, Heart_rate, Systolic_blood_pressure, Troponin')), ('KNeighborsClassifier', (0.894816509152174, 'Creatine_Kinase, Troponin'))]\n"
     ]
    }
   ],
   "source": [
    "store: List[Tuple[float, str]] = []\n",
    "final_dataset: List[Tuple[Any]] = []\n",
    "final_algo: List[Tuple[Any]] = []\n",
    "for algorithm in data:\n",
    "    for dataset in data[algorithm]:\n",
    "        store = []\n",
    "        for comb in data[algorithm][dataset]:\n",
    "            store.append((np.mean(list(data[algorithm][dataset][comb].values())), comb))\n",
    "        final_dataset.append((dataset, max(store, key=lambda x: x[0]), algorithm))\n",
    "    \n",
    "print(final_dataset)\n",
    "print('####')\n",
    "print(final_algo)"
   ]
  },
  {
   "cell_type": "code",
   "execution_count": 10,
   "metadata": {},
   "outputs": [
    {
     "name": "stdout",
     "output_type": "stream",
     "text": [
      "Best Combinations for Each Dataset:\n",
      "                           Dataset               Algorithm  Avg Score  \\\n",
      "0   Cardiovascular_Disease_Dataset      LogisticRegression   0.988355   \n",
      "1              Diabetes_Dataset_37      LogisticRegression   0.742369   \n",
      "2          Diabetes_Classification      LogisticRegression   0.907687   \n",
      "3                  Medical_Dataset      LogisticRegression   0.848163   \n",
      "4   Cardiovascular_Disease_Dataset  RandomForestClassifier   1.000000   \n",
      "5              Diabetes_Dataset_37  RandomForestClassifier   0.747853   \n",
      "6          Diabetes_Classification  RandomForestClassifier   0.887611   \n",
      "7                  Medical_Dataset  RandomForestClassifier   0.988126   \n",
      "8   Cardiovascular_Disease_Dataset              GaussianNB   0.988421   \n",
      "9              Diabetes_Dataset_37              GaussianNB   0.787736   \n",
      "10         Diabetes_Classification              GaussianNB   0.897753   \n",
      "11                 Medical_Dataset              GaussianNB   0.837743   \n",
      "12  Cardiovascular_Disease_Dataset  DecisionTreeClassifier   0.986083   \n",
      "13             Diabetes_Dataset_37  DecisionTreeClassifier   0.748217   \n",
      "14         Diabetes_Classification  DecisionTreeClassifier   0.860925   \n",
      "15                 Medical_Dataset  DecisionTreeClassifier   0.983164   \n",
      "16  Cardiovascular_Disease_Dataset    KNeighborsClassifier   0.977261   \n",
      "17             Diabetes_Dataset_37    KNeighborsClassifier   0.708141   \n",
      "18         Diabetes_Classification    KNeighborsClassifier   0.869091   \n",
      "19                 Medical_Dataset    KNeighborsClassifier   0.894817   \n",
      "\n",
      "                                          Combination  \n",
      "0   Age, Exercise_angina, Fasting_blood_sugar, Max...  \n",
      "1   Diabetes_pedigree, Plasma_glucose, Pregnancy, ...  \n",
      "2   Cholesterol, Glucose, Height, Hips, Waist_hip_...  \n",
      "3   Age, Creatine_Kinase, Diastolic_blood_pressure...  \n",
      "4   Age, Chest_pain, Fasting_blood_sugar, Num_of_m...  \n",
      "5   Age, BMI, Diabetes_pedigree, Diastolic_pressur...  \n",
      "6   BMI, Cholesterol, Glucose, Height, Hips, Systo...  \n",
      "7   Creatine_Kinase, Diastolic_blood_pressure, Gen...  \n",
      "8   Exercise_angina, Gender, Max_heart_rate, Resti...  \n",
      "9   BMI, Diabetes_pedigree, Plasma_glucose, Pregna...  \n",
      "10      BMI, Chol_hdl_ratio, Glucose, Waist_hip_ratio  \n",
      "11  Age, Creatine_Kinase, Systolic_blood_pressure,...  \n",
      "12  Fasting_blood_sugar, Gender, Max_heart_rate, N...  \n",
      "13  Age, BMI, Diabetes_pedigree, Plasma_glucose, S...  \n",
      "14  Chol_hdl_ratio, Cholesterol, Gender, Glucose, ...  \n",
      "15  Creatine_Kinase, Diastolic_blood_pressure, Hea...  \n",
      "16                  Resting_electrocardiomgram, Slope  \n",
      "17                Age, BMI, Plasma_glucose, Pregnancy  \n",
      "18     Glucose, HDL-cholesterol, Systolic_blood_press  \n",
      "19                          Creatine_Kinase, Troponin  \n",
      "Best Combinations for Each Algorithm:\n",
      "                Algorithm  Avg Score  \\\n",
      "0      LogisticRegression   0.848163   \n",
      "1  RandomForestClassifier   0.988126   \n",
      "2              GaussianNB   0.837743   \n",
      "3  DecisionTreeClassifier   0.983164   \n",
      "4    KNeighborsClassifier   0.894817   \n",
      "\n",
      "                                         Combination  \n",
      "0  Age, Creatine_Kinase, Diastolic_blood_pressure...  \n",
      "1  Creatine_Kinase, Diastolic_blood_pressure, Gen...  \n",
      "2  Age, Creatine_Kinase, Systolic_blood_pressure,...  \n",
      "3  Creatine_Kinase, Diastolic_blood_pressure, Hea...  \n",
      "4                          Creatine_Kinase, Troponin  \n"
     ]
    }
   ],
   "source": [
    "df_final_dataset: pd.DataFrame = pd.DataFrame(final_dataset, columns=['Dataset', 'Best Combination', 'Algorithm'])\n",
    "df_final_dataset[['Avg Score', 'Combination']] = pd.DataFrame(df_final_dataset['Best Combination'].tolist(), index=df_final_dataset.index)\n",
    "df_final_dataset.drop(columns=['Best Combination'], inplace=True)\n",
    "\n",
    "df_final_algo: pd.DataFrame = pd.DataFrame(final_algo, columns=['Algorithm', 'Best Combination'])\n",
    "df_final_algo[['Avg Score', 'Combination']] = pd.DataFrame(df_final_algo['Best Combination'].tolist(), index=df_final_algo.index)\n",
    "df_final_algo.drop(columns=['Best Combination'], inplace=True)\n",
    "\n",
    "print(\"Best Combinations for Each Dataset:\")\n",
    "print(df_final_dataset)\n",
    "\n",
    "print(\"Best Combinations for Each Algorithm:\")\n",
    "print(df_final_algo)"
   ]
  },
  {
   "cell_type": "code",
   "execution_count": 12,
   "metadata": {},
   "outputs": [
    {
     "name": "stderr",
     "output_type": "stream",
     "text": [
      "C:\\Users\\antal\\AppData\\Local\\Temp\\ipykernel_6392\\883175686.py:1: FutureWarning: As the xlwt package is no longer maintained, the xlwt engine will be removed in a future version of pandas. This is the only engine in pandas that supports writing in the xls format. Install openpyxl and write to an xlsx file instead. You can set the option io.excel.xls.writer to 'xlwt' to silence this warning. While this option is deprecated and will also raise a warning, it can be globally set and the warning suppressed.\n",
      "  df_final_dataset.to_excel(\"tab.xls\")\n"
     ]
    }
   ],
   "source": [
    "df_final_dataset.to_excel(\"tab.xls\")"
   ]
  }
 ],
 "metadata": {
  "kernelspec": {
   "display_name": "mad_project",
   "language": "python",
   "name": "python3"
  },
  "language_info": {
   "codemirror_mode": {
    "name": "ipython",
    "version": 3
   },
   "file_extension": ".py",
   "mimetype": "text/x-python",
   "name": "python",
   "nbconvert_exporter": "python",
   "pygments_lexer": "ipython3",
   "version": "3.10.14"
  }
 },
 "nbformat": 4,
 "nbformat_minor": 2
}
